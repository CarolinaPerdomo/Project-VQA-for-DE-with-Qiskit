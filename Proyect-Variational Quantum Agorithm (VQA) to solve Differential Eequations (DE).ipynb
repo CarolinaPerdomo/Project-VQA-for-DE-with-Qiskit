{
 "cells": [
  {
   "cell_type": "markdown",
   "id": "3c57d9e8",
   "metadata": {},
   "source": [
    "# A practice toy proyect to solving linear differential equations using Hybrid Classical-Quantum algorithms.\n",
    "\n",
    "# Based on arXiv:2011.10395v2 to be done in Qiskit."
   ]
  },
  {
   "cell_type": "code",
   "execution_count": 1,
   "id": "79ba9c61",
   "metadata": {},
   "outputs": [],
   "source": [
    "# Initialisation in Python\n",
    "\n",
    "import numpy as np # Python library used for working with arrays.\n",
    "from numpy import pi # Value of pi.\n",
    "import matplotlib.pyplot as plt # Library for data visualization (plots and others). Alternative to MATLAB.\n",
    "from scipy.integrate import odeint # Collection of numerical algorithms to solve ordinary differential equations. \n",
    "import random # Generate random numbers."
   ]
  },
  {
   "cell_type": "code",
   "execution_count": 2,
   "id": "d226bb34",
   "metadata": {},
   "outputs": [],
   "source": [
    "# Quantum computing library initialisation: Qiskit (Vendor: IBM)\n",
    "\n",
    "from qiskit import * # Imports all the functions and classes.\n",
    "from qiskit import BasicAer # Give access some of the basic simulators.\n",
    "from qiskit.circuit import QuantumCircuit, ParameterVector, Parameter, QuantumRegister, ClassicalRegister\n",
    "# Define a quantum circuit,quickly generate lists of parameters, define a register of qubits and the classical analog.\n",
    "from qiskit.circuit.library import PauliFeatureMap # Feature maps already in Qiskit. Just to test.\n",
    "from qiskit.circuit.library import EfficientSU2\n",
    "# Circuit with layers of single qubit operations spanned by SU(2). It can be used to prepare trial wave functions for VQA.\n",
    "from qiskit.algorithms.optimizers import ADAM # Adam is a gradient-based optimization algorithm.\n",
    "# According to the documentation \"numerical optimization method for problems where the derivative of the function is not known\".\n",
    "from qiskit.utils import QuantumInstance # It \"holds a backend as well as configuration for circuit transpilation and execution\".\n",
    "from qiskit.utils import algorithm_globals # Just in case. Most include the optimizers.\n",
    "from qiskit.visualization import circuit_drawer # As the name say.\n",
    "from qiskit.opflow import X, Y, Z, I, StateFn, CircuitStateFn, PauliExpectation\n",
    "# \"Operators and State functions are the building blocks of Quantum Algorithms\"\n",
    "from qiskit.opflow.gradients import Gradient# A very use way to minnimize functions is using gradients.\n",
    "\n",
    "\n",
    "num_qubits = 2 # 2 qubits."
   ]
  },
  {
   "cell_type": "code",
   "execution_count": 3,
   "id": "ac76763d",
   "metadata": {},
   "outputs": [],
   "source": [
    "# Initialisation: ML with Qiskit\n",
    "\n",
    "from qiskit_machine_learning.kernels import QuantumKernel # \"It calculates a kernel matrix, given datapoints x and y and feature map...\"\n",
    "from qiskit_machine_learning.kernels.algorithms import QuantumKernelTrainer #  To train the kernel parameters on the dataset.\n",
    "from qiskit_machine_learning.datasets import ad_hoc_data # Just in case. Generates a toy dataset that can be fully separated with ZZ_Feature_Map.\n",
    "from qiskit_machine_learning.neural_networks import OpflowQNN # Opflow Quantum Neural Network.\n",
    "\n",
    "from qiskit.providers.aer import AerSimulator # Just in case. Variety of simulation methods."
   ]
  },
  {
   "attachments": {},
   "cell_type": "markdown",
   "id": "8d7533a2",
   "metadata": {},
   "source": [
    "# We will try to implement the model for the simple differential equation:\n",
    "\n",
    "$\\dfrac{df(x)}{dx} = -kf(x) $,\n",
    "\n",
    "with parameter $k=0.3$ and the initial condition $f_{0}=5$."
   ]
  },
  {
   "cell_type": "code",
   "execution_count": 11,
   "id": "ef5ce84f",
   "metadata": {},
   "outputs": [
    {
     "data": {
      "image/png": "[encoded data removed]",
      "text/plain": [
       "<Figure size 640x480 with 1 Axes>"
      ]
     },
     "metadata": {},
     "output_type": "display_data"
    }
   ],
   "source": [
    "# Differential equation parameters\n",
    "\n",
    "from scipy.integrate import odeint\n",
    "\n",
    "def model(f,x): # Function that returns df/dx\n",
    "    k = 0.3\n",
    "    dfdx = -k * f\n",
    "    return dfdx\n",
    "\n",
    "x = np.linspace(0, 20) # X points in the domain\n",
    "f0 = 5 # Initial condition\n",
    "sol = odeint(model, f0, x)\n",
    "\n",
    "# Exact DE solution - for checking after\n",
    "def f(x):\n",
    "    return -k*(x**2)/2\n",
    "\n",
    "# Traditional plot\n",
    "plt.plot(x,sol)\n",
    "plt.xlabel('x')\n",
    "plt.ylabel('f(x)')\n",
    "plt.show()"
   ]
  },
  {
   "cell_type": "code",
   "execution_count": 12,
   "id": "bdd3363b",
   "metadata": {},
   "outputs": [
    {
     "name": "stdout",
     "output_type": "stream",
     "text": [
      "[ 0.          2.22222222  4.44444444  6.66666667  8.88888889 11.11111111\n",
      " 13.33333333 15.55555556 17.77777778 20.        ]\n"
     ]
    }
   ],
   "source": [
    "number_grid = 10  # Number of grid points of the discretized differential equation - trainning   \n",
    "range_min = 0 # Minimum of the interval on which the function lives.\n",
    "range_max = 20 # Maximum of the interval on which the function lives.\n",
    "TrialX = np.linspace(range_min, range_max, number_grid) # Optimisation grid\n",
    "\n",
    "print(TrialX)"
   ]
  },
  {
   "cell_type": "code",
   "execution_count": 13,
   "id": "c224ac6d",
   "metadata": {},
   "outputs": [
    {
     "name": "stdout",
     "output_type": "stream",
     "text": [
      "[ 0.          0.40816327  0.81632653  1.2244898   1.63265306  2.04081633\n",
      "  2.44897959  2.85714286  3.26530612  3.67346939  4.08163265  4.48979592\n",
      "  4.89795918  5.30612245  5.71428571  6.12244898  6.53061224  6.93877551\n",
      "  7.34693878  7.75510204  8.16326531  8.57142857  8.97959184  9.3877551\n",
      "  9.79591837 10.20408163 10.6122449  11.02040816 11.42857143 11.83673469\n",
      " 12.24489796 12.65306122 13.06122449 13.46938776 13.87755102 14.28571429\n",
      " 14.69387755 15.10204082 15.51020408 15.91836735 16.32653061 16.73469388\n",
      " 17.14285714 17.55102041 17.95918367 18.36734694 18.7755102  19.18367347\n",
      " 19.59183673 20.        ]\n"
     ]
    }
   ],
   "source": [
    "number_grid = 50  # Number of grid points of the discretized differential equation - testing     \n",
    "TrialTest = np.linspace(range_min, range_max, number_grid) \n",
    "\n",
    "print(TrialTest)"
   ]
  },
  {
   "cell_type": "code",
   "execution_count": 7,
   "id": "97a55864",
   "metadata": {},
   "outputs": [],
   "source": [
    "# Numerical differentiation of f\n",
    "#dx = (range_max-range_min) / number_grid"
   ]
  },
  {
   "cell_type": "code",
   "execution_count": 14,
   "id": "e5f06f9d",
   "metadata": {},
   "outputs": [],
   "source": [
    "# Basic statevector simulator\n",
    "\n",
    "backend = BasicAer.get_backend('statevector_simulator') # \"Executes a single shot of a QuantumCircuit and returns the quantum statevector\"\n",
    "random_seed = 10599"
   ]
  },
  {
   "cell_type": "code",
   "execution_count": 15,
   "id": "31dd29b7",
   "metadata": {},
   "outputs": [
    {
     "data": {
      "image/png": "[encoded data removed]",
      "text/plain": [
       "<Figure size 705.35x200.667 with 1 Axes>"
      ]
     },
     "execution_count": 15,
     "metadata": {},
     "output_type": "execute_result"
    }
   ],
   "source": [
    "# Definition of the circuit:\n",
    "# We need a Feature map to encode the data, an Ansatz to train and a observable to evaluate\n",
    "\n",
    "# Construct feature map (module to transform the data to feature space), ansatz, and optimizer\n",
    "\n",
    "feature_dim = 2 # Number of qubits in the circuit\n",
    "\n",
    "feature_map = PauliFeatureMap(feature_dimension=feature_dim, reps=1, entanglement='linear', paulis = ['X'],parameter_prefix='Φ')\n",
    "# Linear: entangles each qubit with the next.\n",
    "# Reps: repetitions of this transformation.\n",
    "#feature_map.draw()\n",
    "\n",
    "ansatz = EfficientSU2(feature_dim, reps=1)\n",
    "#ansatz.draw()\n",
    "# \"EfficientSU2 consists of layers of single qubit operations spanned by SU(2) and CX entanglements\".\n",
    "\n",
    "seed = 10599\n",
    "quantum_instance = QuantumInstance(backend, shots=1024, seed_simulator=seed, seed_transpiler=seed)\n",
    "\n",
    "circuit = feature_map.compose(ansatz) # Putting the circuit together.\n",
    "circuit.draw('mpl',style='iqx')"
   ]
  },
  {
   "cell_type": "code",
   "execution_count": 16,
   "id": "d579a6f0",
   "metadata": {},
   "outputs": [],
   "source": [
    "# Construct operator for measurement of expectation value of the final model circuit.\n",
    "\n",
    "expectation = StateFn(circuit, is_measurement=True) @ StateFn(ansatz)"
   ]
  },
  {
   "cell_type": "code",
   "execution_count": 17,
   "id": "ccc4bb05",
   "metadata": {},
   "outputs": [],
   "source": [
    "# Construct [toy] loss function\n",
    "\n",
    "def loss_function(weight,observable):\n",
    "    loss = np.sum([weight*observable], initial=range_min)\n",
    "    return loss"
   ]
  },
  {
   "cell_type": "code",
   "execution_count": 18,
   "id": "d44149eb",
   "metadata": {},
   "outputs": [],
   "source": [
    "# Let's get the gradient:\n",
    "\n",
    "shifter = Gradient()"
   ]
  },
  {
   "cell_type": "code",
   "execution_count": null,
   "id": "386630c6",
   "metadata": {},
   "outputs": [],
   "source": []
  }
 ],
 "metadata": {
  "kernelspec": {
   "display_name": "Python 3 (ipykernel)",
   "language": "python",
   "name": "python3"
  },
  "language_info": {
   "codemirror_mode": {
    "name": "ipython",
    "version": 3
   },
   "file_extension": ".py",
   "mimetype": "text/x-python",
   "name": "python",
   "nbconvert_exporter": "python",
   "pygments_lexer": "ipython3",
   "version": "3.10.7"
  }
 },
 "nbformat": 4,
 "nbformat_minor": 5
}
